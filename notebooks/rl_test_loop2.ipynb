{
 "cells": [
  {
   "cell_type": "code",
   "execution_count": 1,
   "metadata": {},
   "outputs": [],
   "source": [
    "%load_ext autoreload\n",
    "%autoreload 2\n",
    "\n",
    "import os\n",
    "import cv2\n",
    "import matplotlib.pyplot as plt\n",
    "from attention.img_proc.img_process import *\n",
    "from attention.img_proc.img_split import *\n",
    "from attention.models.face_models import *\n",
    "from attention.utils.img_plot import *\n",
    "import copy"
   ]
  },
  {
   "cell_type": "code",
   "execution_count": 2,
   "metadata": {},
   "outputs": [],
   "source": [
    "def load_images_from_folder(folder):\n",
    "    images = []\n",
    "    for filename in os.listdir(folder):\n",
    "        img = cv2.imread(os.path.join(folder,filename))\n",
    "        if img is not None:\n",
    "            images.append(img)\n",
    "    return images"
   ]
  },
  {
   "cell_type": "code",
   "execution_count": 4,
   "metadata": {},
   "outputs": [],
   "source": [
    "image_path = os.path.join(os.path.expanduser('~'), \"Desktop\", \"origin\")\n",
    "output_path = os.path.join(os.path.expanduser('~'), \"Desktop\", \"origin-face-result\")"
   ]
  },
  {
   "cell_type": "code",
   "execution_count": 5,
   "metadata": {},
   "outputs": [
    {
     "data": {
      "text/plain": [
       "67"
      ]
     },
     "execution_count": 5,
     "metadata": {},
     "output_type": "execute_result"
    }
   ],
   "source": [
    "#return a list containing all the photos in array of origin folder that we access thanks to the path \n",
    "list_images_origin =load_images_from_folder(image_path)\n",
    "len(list_images_origin)"
   ]
  },
  {
   "cell_type": "code",
   "execution_count": 14,
   "metadata": {},
   "outputs": [
    {
     "ename": "error",
     "evalue": "OpenCV(4.7.0) /Users/runner/work/opencv-python/opencv-python/opencv/modules/imgcodecs/src/loadsave.cpp:692: error: (-2:Unspecified error) could not find a writer for the specified extension in function 'imwrite_'\n",
     "output_type": "error",
     "traceback": [
      "\u001b[0;31m---------------------------------------------------------------------------\u001b[0m",
      "\u001b[0;31merror\u001b[0m                                     Traceback (most recent call last)",
      "Cell \u001b[0;32mIn[14], line 26\u001b[0m\n\u001b[1;32m     24\u001b[0m image_output \u001b[39m=\u001b[39m output_image_bboxes(image, bbox_list)\n\u001b[1;32m     25\u001b[0m image_output_rgb \u001b[39m=\u001b[39m cv2\u001b[39m.\u001b[39mcvtColor(image_output, cv2\u001b[39m.\u001b[39mCOLOR_RGB2BGR)\n\u001b[0;32m---> 26\u001b[0m cv2\u001b[39m.\u001b[39;49mimwrite(os\u001b[39m.\u001b[39;49mpath\u001b[39m.\u001b[39;49mjoin(output_path), image_output_rgb)\n",
      "\u001b[0;31merror\u001b[0m: OpenCV(4.7.0) /Users/runner/work/opencv-python/opencv-python/opencv/modules/imgcodecs/src/loadsave.cpp:692: error: (-2:Unspecified error) could not find a writer for the specified extension in function 'imwrite_'\n"
     ]
    }
   ],
   "source": [
    "for photo in list_images_origin:\n",
    "    image = photo\n",
    "    n_split_w = 12\n",
    "    n_split_h = 12\n",
    "    crops = split_image(image, n_split_w, n_split_h, 0.02, 0.02)\n",
    "    # show_crops(crops)\n",
    "    \n",
    "    bbox_crop_list = []\n",
    "    bbox_crop_list_origin = []\n",
    "    for crop in crops:\n",
    "        coord_set = detect_face(crop.image)\n",
    "        bbox_crop_list.append(coord_set)\n",
    "        coord_set_origin = reconstruct_coord(crop, coord_set)\n",
    "        bbox_crop_list_origin.append(coord_set_origin)\n",
    "        \n",
    "    crops_annotated = []\n",
    "    for i in range(len(crops)):\n",
    "        crop_annotated = copy.copy(crops[i])\n",
    "        crop_annotated.image = output_image_bboxes(crop_annotated.image, bbox_crop_list[i])\n",
    "        crops_annotated.append(crop_annotated)\n",
    "    # show_crops(crops_annotated)\n",
    "    \n",
    "    bbox_list = bbox_merge(bbox_crop_list_origin)\n",
    "    image_output = output_image_bboxes(image, bbox_list)\n",
    "    image_output_rgb = cv2.cvtColor(image_output, cv2.COLOR_RGB2BGR)\n",
    "    cv2.imwrite(os.path.join(output_path), image_output_rgb)\n"
   ]
  },
  {
   "cell_type": "code",
   "execution_count": null,
   "metadata": {},
   "outputs": [],
   "source": []
  }
 ],
 "metadata": {
  "kernelspec": {
   "display_name": "attention-env",
   "language": "python",
   "name": "python3"
  },
  "language_info": {
   "codemirror_mode": {
    "name": "ipython",
    "version": 3
   },
   "file_extension": ".py",
   "mimetype": "text/x-python",
   "name": "python",
   "nbconvert_exporter": "python",
   "pygments_lexer": "ipython3",
   "version": "3.10.6"
  },
  "orig_nbformat": 4,
  "vscode": {
   "interpreter": {
    "hash": "6d5199d47e09c264d56960d495f87fb2e9db5e02fdeb85c0cdb762db9136ad67"
   }
  }
 },
 "nbformat": 4,
 "nbformat_minor": 2
}
