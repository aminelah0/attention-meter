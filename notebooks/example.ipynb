{
 "cells": [],
 "metadata": {
  "kernelspec": {
   "display_name": "attention-env",
   "language": "python",
   "name": "python3"
  },
  "language_info": {
   "codemirror_mode": {
    "name": "ipython",
    "version": 3
   },
   "file_extension": ".py",
   "mimetype": "text/x-python",
   "name": "python",
   "nbconvert_exporter": "python",
   "pygments_lexer": "ipython3",
   "version": "3.10.6"
  },
  "orig_nbformat": 4,
  "vscode": {
   "interpreter": {
    "hash": "fc880df9258091fe4f5e5e5dd582c39aa194af2b834045b8757e08d8ffbe4a98"
   }
  }
 },
 "nbformat": 4,
 "nbformat_minor": 2
}
