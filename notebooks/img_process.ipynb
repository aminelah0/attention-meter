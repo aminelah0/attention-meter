{
 "cells": [
  {
   "cell_type": "code",
   "execution_count": 8,
   "metadata": {},
   "outputs": [
    {
     "name": "stderr",
     "output_type": "stream",
     "text": [
      "objc[5260]: Class CaptureDelegate is implemented in both /Users/amine/.pyenv/versions/3.10.6/envs/attention-env/lib/python3.10/site-packages/cv2/cv2.abi3.so (0x1691524e8) and /Users/amine/.pyenv/versions/3.10.6/envs/attention-env/lib/python3.10/site-packages/mediapipe/.dylibs/libopencv_videoio.3.4.16.dylib (0x12fe90860). One of the two will be used. Which one is undefined.\n",
      "objc[5260]: Class CVWindow is implemented in both /Users/amine/.pyenv/versions/3.10.6/envs/attention-env/lib/python3.10/site-packages/cv2/cv2.abi3.so (0x169152538) and /Users/amine/.pyenv/versions/3.10.6/envs/attention-env/lib/python3.10/site-packages/mediapipe/.dylibs/libopencv_highgui.3.4.16.dylib (0x11d0c0a68). One of the two will be used. Which one is undefined.\n",
      "objc[5260]: Class CVView is implemented in both /Users/amine/.pyenv/versions/3.10.6/envs/attention-env/lib/python3.10/site-packages/cv2/cv2.abi3.so (0x169152560) and /Users/amine/.pyenv/versions/3.10.6/envs/attention-env/lib/python3.10/site-packages/mediapipe/.dylibs/libopencv_highgui.3.4.16.dylib (0x11d0c0a90). One of the two will be used. Which one is undefined.\n",
      "objc[5260]: Class CVSlider is implemented in both /Users/amine/.pyenv/versions/3.10.6/envs/attention-env/lib/python3.10/site-packages/cv2/cv2.abi3.so (0x169152588) and /Users/amine/.pyenv/versions/3.10.6/envs/attention-env/lib/python3.10/site-packages/mediapipe/.dylibs/libopencv_highgui.3.4.16.dylib (0x11d0c0ab8). One of the two will be used. Which one is undefined.\n"
     ]
    }
   ],
   "source": [
    "import cv2\n",
    "import numpy as np\n",
    "import mediapipe.framework.formats.landmark_pb2 as mp_landmark\n",
    "from mediapipe.python.solutions import drawing_utils"
   ]
  },
  {
   "cell_type": "code",
   "execution_count": 3,
   "metadata": {},
   "outputs": [],
   "source": [
    "def cv2_process(image_path: str) -> np.ndarray:\n",
    "    '''Creates an image array (RGB) from an image path'''\n",
    "    \n",
    "    image_array = cv2.imread(image_path)\n",
    "   \n",
    "    #Convert the BGR image to RGB\n",
    "    image_rgb = cv2.cvtColor(image_array, cv2.COLOR_BGR2RGB)\n",
    "    \n",
    "    return image_rgb\n",
    "    "
   ]
  },
  {
   "cell_type": "code",
   "execution_count": 6,
   "metadata": {},
   "outputs": [],
   "source": [
    "def crop_faces(image_rgb: np.ndarray, bbox_list: list[dict]) -> list[np.ndarray]:\n",
    "    '''Takes the coordinates of the faces detected on an image (bbox coordinates) and returns the cropped faces'''\n",
    "    faces = []\n",
    "    for bbox in bbox_list:\n",
    "        x1 = bbox[\"x1\"]\n",
    "        y1 = bbox[\"y1\"]\n",
    "        x2 = bbox[\"x2\"]\n",
    "        y2 = bbox[\"y2\"]\n",
    "        face = image_rgb[y1:y2, x1:x2]\n",
    "        faces.append(face)\n",
    "    \n",
    "    return faces "
   ]
  },
  {
   "cell_type": "code",
   "execution_count": 7,
   "metadata": {},
   "outputs": [],
   "source": [
    "def output_image_bboxes(image_rgb: np.ndarray, bbox_list):\n",
    "    '''Takes the original image and returns a copy of the image with the drawing of the bboxes'''\n",
    "    image_annoted = image_rgb.copy()\n",
    "    for bbox in bbox_list:\n",
    "        x1 = bbox[\"x1\"]\n",
    "        y1 = bbox[\"y1\"]\n",
    "        x2 = bbox[\"x2\"]\n",
    "        y2 = bbox[\"y2\"]\n",
    "        cv2.rectangle(image_annoted, (x1, y1), (x2, y2), (0, 255, 0), 2)\n",
    "    return image_annoted"
   ]
  },
  {
   "cell_type": "code",
   "execution_count": 10,
   "metadata": {},
   "outputs": [],
   "source": [
    "def output_face_landmarks(face: np.ndarray, landmarks: mp_landmark.NormalizedLandmarkList):\n",
    "    '''Takes a face image and returns a copy of the image with the drawing of the landmarks'''\n",
    "    image_annoted = face.copy()\n",
    "    drawing_utils.draw_landmarks(image_annoted, landmarks)\n",
    "    return image_annoted"
   ]
  }
 ],
 "metadata": {
  "kernelspec": {
   "display_name": "attention-env",
   "language": "python",
   "name": "python3"
  },
  "language_info": {
   "codemirror_mode": {
    "name": "ipython",
    "version": 3
   },
   "file_extension": ".py",
   "mimetype": "text/x-python",
   "name": "python",
   "nbconvert_exporter": "python",
   "pygments_lexer": "ipython3",
   "version": "3.10.6"
  },
  "orig_nbformat": 4
 },
 "nbformat": 4,
 "nbformat_minor": 2
}
