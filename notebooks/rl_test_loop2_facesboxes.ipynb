{
 "cells": [
  {
   "cell_type": "code",
   "execution_count": 2,
   "metadata": {},
   "outputs": [
    {
     "name": "stdout",
     "output_type": "stream",
     "text": [
      "The autoreload extension is already loaded. To reload it, use:\n",
      "  %reload_ext autoreload\n"
     ]
    },
    {
     "ename": "SyntaxError",
     "evalue": "invalid syntax (img_process.py, line 44)",
     "output_type": "error",
     "traceback": [
      "Traceback \u001b[0;36m(most recent call last)\u001b[0m:\n",
      "\u001b[0m  File \u001b[1;32m~/.pyenv/versions/3.10.6/envs/attention-env/lib/python3.10/site-packages/IPython/core/interactiveshell.py:3460\u001b[0m in \u001b[1;35mrun_code\u001b[0m\n    exec(code_obj, self.user_global_ns, self.user_ns)\u001b[0m\n",
      "\u001b[0;36m  Cell \u001b[0;32mIn[2], line 7\u001b[0;36m\n\u001b[0;31m    from attention.img_proc.img_process import *\u001b[0;36m\n",
      "\u001b[0;36m  File \u001b[0;32m~/code/labosseler/final-project/final-attention/attention/img_proc/img_process.py:44\u001b[0;36m\u001b[0m\n\u001b[0;31m    <<<<<<< HEAD\u001b[0m\n\u001b[0m    ^\u001b[0m\n\u001b[0;31mSyntaxError\u001b[0m\u001b[0;31m:\u001b[0m invalid syntax\n"
     ]
    }
   ],
   "source": [
    "%load_ext autoreload\n",
    "%autoreload 2\n",
    "\n",
    "import os\n",
    "import cv2\n",
    "import matplotlib.pyplot as plt\n",
    "from attention.img_proc.img_process import *\n",
    "from attention.img_proc.img_split import *\n",
    "from attention.models.face_models import *\n",
    "from attention.utils.img_plot import *\n",
    "import copy"
   ]
  },
  {
   "cell_type": "code",
   "execution_count": 18,
   "metadata": {},
   "outputs": [],
   "source": [
    "def load_images_from_folder(folder):\n",
    "    images = []\n",
    "    for filename in os.listdir(folder):\n",
    "        img = cv2.imread(os.path.join(folder,filename))\n",
    "        if img is not None:\n",
    "            images.append(img)\n",
    "    return images"
   ]
  },
  {
   "cell_type": "code",
   "execution_count": 27,
   "metadata": {},
   "outputs": [],
   "source": [
    "image_path = os.path.join(os.path.expanduser('~'), \"Desktop\", \"origin\")\n",
    "output_path = os.path.join(os.path.expanduser('~'), \"Desktop\", \"origin-face-result\")"
   ]
  },
  {
   "cell_type": "code",
   "execution_count": 28,
   "metadata": {},
   "outputs": [
    {
     "data": {
      "text/plain": [
       "67"
      ]
     },
     "execution_count": 28,
     "metadata": {},
     "output_type": "execute_result"
    }
   ],
   "source": [
    "#return a list containing all the photos in array of origin folder that we access thanks to the path \n",
    "list_images_origin =load_images_from_folder(image_path)\n",
    "len(list_images_origin)"
   ]
  },
  {
   "cell_type": "code",
   "execution_count": 23,
   "metadata": {},
   "outputs": [
    {
     "data": {
      "text/plain": [
       "numpy.ndarray"
      ]
     },
     "execution_count": 23,
     "metadata": {},
     "output_type": "execute_result"
    }
   ],
   "source": [
    "type(list_images_origin[0])"
   ]
  },
  {
   "cell_type": "code",
   "execution_count": 30,
   "metadata": {},
   "outputs": [],
   "source": [
    "for idx, photo in enumerate(list_images_origin):\n",
    "    image_name = f'frame_box_{idx}.png'\n",
    "    image_array = photo\n",
    "    image = cv2.cvtColor(image_array, cv2.COLOR_BGR2RGB)\n",
    "    n_split_w = 2\n",
    "    n_split_h = 2\n",
    "    crops = split_image(image, n_split_w, n_split_h, 0.02, 0.02)\n",
    "    # show_crops(crops)\n",
    "    \n",
    "    bbox_crop_list = []\n",
    "    bbox_crop_list_origin = []\n",
    "    for crop in crops:\n",
    "        coord_set = detect_face(crop.image)\n",
    "        bbox_crop_list.append(coord_set)\n",
    "        coord_set_origin = reconstruct_coord(crop, coord_set)\n",
    "        bbox_crop_list_origin.append(coord_set_origin)\n",
    "        \n",
    "    crops_annotated = []\n",
    "    for i in range(len(crops)):\n",
    "        crop_annotated = copy.copy(crops[i])\n",
    "        crop_annotated.image = output_image_bboxes(crop_annotated.image, bbox_crop_list[i])\n",
    "        crops_annotated.append(crop_annotated)\n",
    "    # show_crops(crops_annotated)\n",
    "    \n",
    "    bbox_list = bbox_merge(bbox_crop_list_origin)\n",
    "    image_output = output_image_bboxes(image, bbox_list)\n",
    "    image_output_rgb = cv2.cvtColor(image_output, cv2.COLOR_RGB2BGR)\n",
    "    cv2.imwrite(os.path.join(output_path,image_name), image_output_rgb)\n"
   ]
  },
  {
   "cell_type": "code",
   "execution_count": null,
   "metadata": {},
   "outputs": [],
   "source": []
  }
 ],
 "metadata": {
  "kernelspec": {
   "display_name": "attention-env",
   "language": "python",
   "name": "python3"
  },
  "language_info": {
   "codemirror_mode": {
    "name": "ipython",
    "version": 3
   },
   "file_extension": ".py",
   "mimetype": "text/x-python",
   "name": "python",
   "nbconvert_exporter": "python",
   "pygments_lexer": "ipython3",
   "version": "3.10.6"
  },
  "orig_nbformat": 4,
  "vscode": {
   "interpreter": {
    "hash": "6d5199d47e09c264d56960d495f87fb2e9db5e02fdeb85c0cdb762db9136ad67"
   }
  }
 },
 "nbformat": 4,
 "nbformat_minor": 2
}
