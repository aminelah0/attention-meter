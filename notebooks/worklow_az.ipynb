{
 "cells": [
  {
   "cell_type": "code",
   "execution_count": 75,
   "metadata": {},
   "outputs": [
    {
     "name": "stdout",
     "output_type": "stream",
     "text": [
      "The autoreload extension is already loaded. To reload it, use:\n",
      "  %reload_ext autoreload\n"
     ]
    }
   ],
   "source": [
    "%load_ext autoreload\n",
    "%autoreload 2\n",
    "\n",
    "import os\n",
    "import cv2\n",
    "import pandas as pd\n",
    "import numpy as np\n",
    "import matplotlib.pyplot as plt\n",
    "from attention.img_proc.img_process import *\n",
    "from attention.img_proc.img_split import *\n",
    "from attention.models.face_models import *\n",
    "from attention.utils.img_plot import *\n",
    "from attention.utils.utilities import *\n",
    "from attention.utils.output_plot import *\n",
    "from attention.params import *\n",
    "import copy"
   ]
  },
  {
   "cell_type": "code",
   "execution_count": 76,
   "metadata": {},
   "outputs": [],
   "source": [
    "# Get attention_data directory\n",
    "current_directory = os.getcwd()\n",
    "data_directory = os.path.join(current_directory, os.pardir, \"attention_data\")"
   ]
  },
  {
   "cell_type": "markdown",
   "metadata": {},
   "source": [
    "## Creating the frames"
   ]
  },
  {
   "cell_type": "markdown",
   "metadata": {},
   "source": [
    "### Option 1: from video"
   ]
  },
  {
   "cell_type": "code",
   "execution_count": 77,
   "metadata": {},
   "outputs": [],
   "source": [
    "# video_folder_path = os.path.join(data_directory, \"video\")\n",
    "# video_name = \"video2.MOV\"\n",
    "# video_path = os.path.join(video_folder_path, video_name)\n",
    "# frames = extract_video_frames(video_path, \n",
    "#                               period_sec=1,\n",
    "#                               start_sec=35, end_sec=185)\n",
    "\n",
    "# # Saving the frames\n",
    "# image_folder_path = os.path.join(data_directory, \"frames\")\n",
    "# for timestamp, frame in frames.items():\n",
    "#     frame_name = video_name.split('.')[0] + f'_ds{int(timestamp * 10):05}'\n",
    "#     save_image(frame, frame_name + '.png', image_folder_path)"
   ]
  },
  {
   "cell_type": "markdown",
   "metadata": {},
   "source": [
    "### Option 2: from photos"
   ]
  },
  {
   "cell_type": "code",
   "execution_count": 78,
   "metadata": {},
   "outputs": [],
   "source": [
    "image_folder_path = os.path.join(data_directory, \"frames\")\n",
    "for idx, filename in enumerate(sorted(os.listdir(image_folder_path))):\n",
    "    os.rename(os.path.join(image_folder_path, filename), os.path.join(image_folder_path, f'frame_ds{idx * 10:05}.png'))"
   ]
  },
  {
   "cell_type": "markdown",
   "metadata": {},
   "source": [
    "## Training the face recognition model"
   ]
  },
  {
   "cell_type": "code",
   "execution_count": 79,
   "metadata": {},
   "outputs": [],
   "source": [
    "# # Training the face recognition model\n",
    "# known_folder_path = os.path.join(data_directory, os.pardir, \"attention_known_faces\")\n",
    "# known_paths = load_image_paths(known_folder_path)\n",
    "# known_names = list(known_paths.keys())\n",
    "# known_faces = [read_image(image_path) for image_path in known_paths.values()]\n",
    "# known_encodings = train_faces(known_faces, known_names)"
   ]
  },
  {
   "cell_type": "markdown",
   "metadata": {},
   "source": [
    "## Running the program"
   ]
  },
  {
   "cell_type": "code",
   "execution_count": 80,
   "metadata": {},
   "outputs": [],
   "source": [
    "# PARAMS:\n",
    "n_split_w = 6\n",
    "n_split_h = 6\n",
    "landmark_idx = LEFT_EYE_EDGES  + LEFT_IRIS_CENTER + RIGHT_EYE_EDGES + RIGHT_IRIS_CENTER\n",
    "\n",
    "# Dataframe columns\n",
    "df_columns =  ['frame',\n",
    "'timestamp',\n",
    "'face_idx',\n",
    "'recognition_prediction',\n",
    "'recognition_distance',\n",
    "'attentive',\n",
    "'left_prediction',\n",
    "'left_score',\n",
    "'right_prediction',\n",
    "'right_score',\n",
    "'head_direction_prediction',\n",
    "'head_direction_score',\n",
    "'head_inclination_prediction',\n",
    "'head_inclination_score']"
   ]
  },
  {
   "cell_type": "code",
   "execution_count": 81,
   "metadata": {},
   "outputs": [
    {
     "ename": "error",
     "evalue": "OpenCV(4.7.0) /Users/xperience/GHA-OCV-Python/_work/opencv-python/opencv-python/opencv/modules/imgproc/src/color.cpp:182: error: (-215:Assertion failed) !_src.empty() in function 'cvtColor'\n",
     "output_type": "error",
     "traceback": [
      "\u001b[0;31m---------------------------------------------------------------------------\u001b[0m",
      "\u001b[0;31merror\u001b[0m                                     Traceback (most recent call last)",
      "Cell \u001b[0;32mIn[81], line 9\u001b[0m\n\u001b[1;32m      4\u001b[0m attention_df \u001b[39m=\u001b[39m pd\u001b[39m.\u001b[39mDataFrame(columns\u001b[39m=\u001b[39mdf_columns) \n\u001b[1;32m      6\u001b[0m \u001b[39mfor\u001b[39;00m image_name, image_path \u001b[39min\u001b[39;00m image_paths\u001b[39m.\u001b[39mitems():\n\u001b[1;32m      7\u001b[0m     \n\u001b[1;32m      8\u001b[0m     \u001b[39m# Loading image\u001b[39;00m\n\u001b[0;32m----> 9\u001b[0m     image \u001b[39m=\u001b[39m read_image(image_path)\n\u001b[1;32m     10\u001b[0m     timestamp \u001b[39m=\u001b[39m \u001b[39mint\u001b[39m(image_name\u001b[39m.\u001b[39msplit(\u001b[39m'\u001b[39m\u001b[39m_ds\u001b[39m\u001b[39m'\u001b[39m)[\u001b[39m1\u001b[39m]) \u001b[39mif\u001b[39;00m \u001b[39m'\u001b[39m\u001b[39m_ds\u001b[39m\u001b[39m'\u001b[39m \u001b[39min\u001b[39;00m image_name \u001b[39melse\u001b[39;00m np\u001b[39m.\u001b[39mnan\n\u001b[1;32m     11\u001b[0m     image_summary, ratio_summary \u001b[39m=\u001b[39m resize_image(image, \u001b[39m1920\u001b[39m)\n",
      "File \u001b[0;32m/Users/amine/code/aminelah0/final-attention/attention/img_proc/img_process.py:14\u001b[0m, in \u001b[0;36mread_image\u001b[0;34m(image_path)\u001b[0m\n\u001b[1;32m     12\u001b[0m image_array \u001b[39m=\u001b[39m cv2\u001b[39m.\u001b[39mimread(image_path)\n\u001b[1;32m     13\u001b[0m \u001b[39m#Convert the BGR image to RGB\u001b[39;00m\n\u001b[0;32m---> 14\u001b[0m image_rgb \u001b[39m=\u001b[39m cv2\u001b[39m.\u001b[39;49mcvtColor(image_array, cv2\u001b[39m.\u001b[39;49mCOLOR_BGR2RGB)\n\u001b[1;32m     15\u001b[0m \u001b[39mreturn\u001b[39;00m image_rgb\n",
      "\u001b[0;31merror\u001b[0m: OpenCV(4.7.0) /Users/xperience/GHA-OCV-Python/_work/opencv-python/opencv-python/opencv/modules/imgproc/src/color.cpp:182: error: (-215:Assertion failed) !_src.empty() in function 'cvtColor'\n"
     ]
    }
   ],
   "source": [
    "image_folder_path = os.path.join(data_directory, \"frames\")\n",
    "image_paths = load_image_paths(image_folder_path)\n",
    "\n",
    "attention_df = pd.DataFrame(columns=df_columns) \n",
    "\n",
    "for image_name, image_path in image_paths.items():\n",
    "    \n",
    "    # Loading image\n",
    "    image = read_image(image_path)\n",
    "    timestamp = int(image_name.split('_ds')[1]) if '_ds' in image_name else np.nan\n",
    "    image_summary, ratio_summary = resize_image(image, 1920)\n",
    "    # Splitting image\n",
    "    crops = split_image(image, n_split_w, n_split_h, 0.05, 0.05)\n",
    "    # Generating bboxes for each crop\n",
    "    bbox_crop_list = []\n",
    "    bbox_crop_list_absolute = []\n",
    "    for crop in crops:\n",
    "        coord_set = detect_face(crop.image)\n",
    "        bbox_crop_list.append(coord_set)\n",
    "        coord_set_absolute = reconstruct_coord(crop, coord_set)\n",
    "        bbox_crop_list_absolute.append(coord_set_absolute)\n",
    "    bbox_crop_list_absolute\n",
    "    # Eliminating duplicates bboxes\n",
    "    bbox_list = bbox_merge(bbox_crop_list_absolute, intersect_threshold=0.6)\n",
    "    # # Drawing the unique bboxes on the original image\n",
    "    # image_output = annotate_bboxes(image, bbox_list)\n",
    "    # # Saving the image with its bboxes\n",
    "    # bbox_path = os.path.join(data_directory, \"output_bbox\")\n",
    "    # save_image(image_output, image_name + '.png', bbox_path)\n",
    "    \n",
    "    # Generating face crops\n",
    "    faces = crop_faces(image, bbox_list)\n",
    "    # # Saving face crops\n",
    "    # face_path = os.path.join(data_directory, \"face_crops\")\n",
    "    # for face_idx, face in enumerate(faces):\n",
    "    #     face_name = image_name + f'_{face_idx}'\n",
    "    #     save_image(face, face_name + '.png', face_path)\n",
    "    \n",
    "    # Generating eye and iris landmarks\n",
    "    for face_idx, face in enumerate(faces):\n",
    "        \n",
    "        face_name = image_name + f'_{face_idx}'\n",
    "        mp_landmarks = find_landmarks(face)\n",
    "        if mp_landmarks:                # Only run attention/ recognition if it detects a face\n",
    "            # Converting the Mediapipe landmark to a standard system of coordinates\n",
    "            landmark_list = convert_landmarks(face, mp_landmarks)\n",
    "            # # Drawing the face mesh on the face\n",
    "            # face_mesh = annotate_mesh(face, mp_landmarks)\n",
    "            # # Saving face with complete mesh\n",
    "            # mesh_path = os.path.join(data_directory, \"output_mesh\")\n",
    "            # save_image(face_mesh, face_name + '.png', mesh_path)\n",
    "            \n",
    "            # Detecting eye direction and attention\n",
    "            face_name = image_name + f'_{face_idx}'\n",
    "            eye_directions = detect_eye_directions(landmark_list, extreme_threshold = 0.63, detailed_threshold_main = 0.6, detailed_threshold_comp = 0.45)\n",
    "            eye_inclinations = detect_eye_inclinations(landmark_list, threshold = 0.23)\n",
    "            head_direction = detect_head_direction(landmark_list, left_threshold = 0.35, right_threshold = 1)\n",
    "            head_inclination = detect_head_inclination(landmark_list, down_threshold = 2.3)\n",
    "            attention, attention_driver = is_attentive(eye_directions, eye_inclinations, head_direction, head_inclination)\n",
    "            # Drawing iris landmarks + annotating attention results on original image\n",
    "            prediction_lefteye_direction, score_lefteye_direction = eye_directions['left']\n",
    "            prediction_righteye_direction, score_righteye_direction = eye_directions['right']\n",
    "            prediction_lefteye_inclination, score_lefteye_inclination = eye_inclinations['left']\n",
    "            prediction_righteye_inclination, score_righteye_inclination = eye_inclinations['right']\n",
    "            prediction_head_direction, score_head_direction = head_direction\n",
    "            prediction_head_inclination, score_head_inclination = head_inclination\n",
    "            prediction_attention = 'attentive' if attention else 'inattentive'\n",
    "            # face_attention = annotate_attention(face, landmark_list, \n",
    "            #                                         prediction_lefteye_direction, score_lefteye_direction, \n",
    "            #                                         prediction_righteye_direction, score_righteye_direction,\n",
    "            #                                         prediction_lefteye_inclination, score_lefteye_inclination, \n",
    "            #                                         prediction_righteye_inclination, score_righteye_inclination,\n",
    "            #                                         prediction_head_direction, score_head_direction,\n",
    "            #                                         prediction_head_inclination, score_head_inclination,\n",
    "            #                                         prediction_attention)\n",
    "            # # Saving attention image output\n",
    "            # attention_path = os.path.join(data_directory, \"output_attention\")\n",
    "            # save_image(face_attention, face_name + '.png', attention_path)\n",
    "        \n",
    "        \n",
    "            # Recognizing a face\n",
    "            face_name = image_name + f'_{face_idx}'\n",
    "            face_prediction = recognize_face(face, known_encodings)\n",
    "            # Annotating name and distance on the face image\n",
    "            prediction_recognition, distance_recognition = face_prediction\n",
    "            # face_recognition = annotate_recognition(face, prediction_recognition, distance_recognition)\n",
    "            # # Saving recognition image output\n",
    "            # recognition_path = os.path.join(data_directory, \"output_recognition\")\n",
    "            # save_image(face_recognition, face_name + '.png', recognition_path)\n",
    "            \n",
    "            \n",
    "            # Generating summary image\n",
    "            # Annotating with key info (bbox, attentiveness, recognition)\n",
    "            recognition = False if pd.isna(prediction_recognition) else True\n",
    "            bbox_face = bbox_list[face_idx]\n",
    "            image_summary = annotate_summary(image_summary, ratio_summary, \n",
    "                                             bbox_face, \n",
    "                                             attention, attention_driver, \n",
    "                                             recognition)\n",
    "            \n",
    "            \n",
    "            # Saving data in the dataframe\n",
    "            attention_df.loc[len(attention_df)] = [image_name,\n",
    "                                                    timestamp,\n",
    "                                                    face_idx,\n",
    "                                                    prediction_recognition, distance_recognition,\n",
    "                                                    attention,\n",
    "                                                    prediction_lefteye_direction, score_lefteye_direction,\n",
    "                                                    prediction_righteye_direction, score_righteye_direction,\n",
    "                                                    prediction_head_direction, score_head_direction,\n",
    "                                                    prediction_head_inclination, score_head_inclination]\n",
    "                \n",
    "        \n",
    "        # Saving summary image once all faces done\n",
    "        summary_path = os.path.join(data_directory, \"output_summary\")\n",
    "        save_image(image_summary, image_name + '.png', summary_path)\n",
    "    "
   ]
  },
  {
   "cell_type": "markdown",
   "metadata": {},
   "source": [
    "## Saving the dataframe"
   ]
  },
  {
   "cell_type": "code",
   "execution_count": 82,
   "metadata": {},
   "outputs": [],
   "source": [
    "# Grouping the timestamps\n",
    "attention_df = attention_df.sort_values(by=['timestamp', 'face_idx']).reset_index(drop=True)\n",
    "grouping_factor = 10\n",
    "timestamps = attention_df[\"timestamp\"].unique()\n",
    "timestamp_dict = {timestamps[i]: timestamps[i - i % grouping_factor] for i in range(len(timestamps))}\n",
    "time_group = attention_df['timestamp'].map(timestamp_dict)\n",
    "attention_df.insert(2, 'time_group', time_group)\n"
   ]
  },
  {
   "cell_type": "code",
   "execution_count": 83,
   "metadata": {},
   "outputs": [],
   "source": [
    "attention_df.to_csv(os.path.join(data_directory,'attention_output.csv'), index=False)\n",
    "# attention_df = pd.read_csv(os.path.join(data_directory, 'attention_output.csv')).sort_values(by=['timestamp', 'face_idx']).reset_index(drop=True)"
   ]
  },
  {
   "cell_type": "markdown",
   "metadata": {},
   "source": [
    "## Showing the results"
   ]
  },
  {
   "cell_type": "code",
   "execution_count": 84,
   "metadata": {},
   "outputs": [
    {
     "data": {
      "application/vnd.plotly.v1+json": {
       "config": {
        "plotlyServerURL": "https://plot.ly"
       },
       "data": [
        {
         "hovertemplate": "Time (in seconds)=%{x}<br>Attentiveness (in %)=%{y}<extra></extra>",
         "legendgroup": "",
         "line": {
          "color": "#636efa",
          "dash": "solid"
         },
         "marker": {
          "symbol": "circle"
         },
         "mode": "lines",
         "name": "",
         "orientation": "v",
         "showlegend": false,
         "type": "scatter",
         "x": [
          0,
          1,
          2,
          3,
          4,
          5,
          6,
          7,
          8,
          9,
          11,
          12,
          13,
          14,
          15,
          16,
          17,
          18,
          19,
          20,
          21,
          22,
          23,
          24,
          25,
          27,
          28,
          29,
          30,
          31,
          32,
          33,
          34,
          35,
          36,
          37,
          38,
          39,
          40,
          41,
          42,
          43,
          44,
          45,
          46,
          47,
          48,
          49,
          50,
          52,
          53,
          54,
          55,
          56,
          57,
          58,
          59,
          60,
          61,
          62,
          64,
          65,
          66,
          68,
          69,
          70,
          71,
          73,
          74,
          75,
          76,
          77,
          78,
          79,
          80,
          81,
          82,
          83,
          85,
          86,
          87,
          89,
          90,
          91,
          92,
          93,
          94,
          95,
          96,
          97,
          99,
          100,
          101,
          102,
          103,
          104,
          105,
          106,
          107,
          108,
          109,
          110,
          111,
          112,
          113,
          115,
          116,
          117,
          119,
          120,
          121,
          123,
          124,
          125,
          126,
          127,
          128,
          129,
          130,
          131,
          132,
          133,
          134,
          136,
          137,
          138,
          140,
          141,
          142,
          143,
          144,
          145,
          146,
          147,
          148,
          149,
          150,
          151,
          152,
          153,
          154,
          157,
          158,
          161,
          162,
          164,
          165,
          166,
          167,
          168,
          169,
          170,
          171,
          172,
          173,
          174,
          175,
          177,
          178,
          179,
          181,
          182,
          183,
          184,
          185,
          186,
          187,
          188,
          189,
          190,
          192,
          193,
          194,
          195,
          196,
          197,
          198,
          199,
          200,
          201,
          202,
          203,
          204,
          205,
          206,
          208,
          209,
          210,
          212,
          213,
          214,
          215,
          216,
          217,
          218,
          219,
          220,
          221,
          222,
          223,
          224,
          225,
          226,
          228,
          229,
          231,
          232,
          233,
          234,
          235,
          236,
          237,
          238,
          239,
          240,
          241,
          242,
          243,
          244,
          245,
          247,
          248,
          249,
          251,
          252,
          253,
          254,
          255,
          256,
          257,
          258,
          259,
          260,
          261,
          262,
          263,
          264,
          265,
          267,
          268,
          269,
          270,
          271,
          274,
          275,
          276,
          277,
          278,
          280,
          281,
          282,
          283,
          284,
          285,
          286,
          287,
          288,
          290,
          291,
          292,
          293,
          294,
          296,
          297,
          298,
          300,
          301,
          302,
          304,
          305,
          306,
          307,
          308,
          309,
          310,
          311,
          312,
          313,
          314,
          316,
          317,
          318,
          320,
          321,
          322,
          324,
          325,
          326,
          327,
          328,
          329,
          330,
          331,
          332,
          333,
          335,
          336
         ],
         "xaxis": "x",
         "y": [
          70,
          70,
          70,
          65,
          55,
          45,
          35,
          45,
          35,
          25,
          15,
          10,
          10,
          10,
          10,
          10,
          10,
          0,
          0,
          0,
          0,
          0,
          0,
          0,
          0,
          0,
          0,
          0,
          10,
          20,
          30,
          30,
          40,
          50,
          60,
          60,
          60,
          60,
          50,
          40,
          30,
          30,
          20,
          10,
          0,
          0,
          0,
          0,
          0,
          0,
          0,
          0,
          0,
          0,
          0,
          0,
          0,
          0,
          0,
          0,
          0,
          0,
          0,
          10,
          10,
          20,
          20,
          20,
          20,
          20,
          20,
          20,
          20,
          10,
          10,
          0,
          0,
          10,
          10,
          10,
          10,
          10,
          10,
          10,
          10,
          10,
          10,
          10,
          20,
          20,
          20,
          30,
          40,
          40,
          40,
          50,
          60,
          60,
          50,
          60,
          70,
          70,
          70,
          80,
          90,
          90,
          90,
          90,
          90,
          80,
          70,
          60,
          60,
          50,
          40,
          30,
          20,
          10,
          10,
          10,
          10,
          10,
          0,
          0,
          0,
          0,
          0,
          0,
          0,
          0,
          0,
          0,
          0,
          10,
          10,
          20,
          30,
          40,
          50,
          60,
          60,
          60,
          60,
          50,
          55,
          45,
          35,
          35,
          25,
          15,
          15,
          15,
          15,
          15,
          10,
          10,
          10,
          0,
          0,
          5,
          15,
          20,
          20,
          20,
          20,
          23,
          28,
          33,
          33,
          33,
          28,
          23,
          33,
          33,
          43,
          50,
          55,
          60,
          70,
          75,
          80,
          80,
          70,
          75,
          75,
          75,
          75,
          65,
          55,
          55,
          45,
          55,
          55,
          60,
          60,
          60,
          60,
          70,
          80,
          80,
          80,
          80,
          90,
          90,
          90,
          90,
          90,
          90,
          80,
          80,
          90,
          90,
          90,
          80,
          80,
          70,
          70,
          60,
          60,
          50,
          50,
          40,
          30,
          30,
          30,
          40,
          40,
          40,
          50,
          60,
          60,
          70,
          80,
          90,
          90,
          80,
          70,
          70,
          65,
          60,
          50,
          50,
          40,
          40,
          40,
          50,
          50,
          50,
          50,
          45,
          55,
          55,
          55,
          55,
          50,
          50,
          50,
          60,
          65,
          75,
          75,
          65,
          65,
          55,
          50,
          40,
          40,
          30,
          20,
          10,
          0,
          0,
          0,
          0,
          0,
          0,
          0,
          0,
          0,
          0,
          0,
          0,
          0,
          0,
          0,
          0,
          0,
          0,
          0,
          0,
          0,
          0,
          0,
          0,
          0,
          0,
          0
         ],
         "yaxis": "y"
        }
       ],
       "layout": {
        "legend": {
         "tracegroupgap": 0
        },
        "margin": {
         "t": 60
        },
        "template": {
         "data": {
          "bar": [
           {
            "error_x": {
             "color": "#2a3f5f"
            },
            "error_y": {
             "color": "#2a3f5f"
            },
            "marker": {
             "line": {
              "color": "#E5ECF6",
              "width": 0.5
             },
             "pattern": {
              "fillmode": "overlay",
              "size": 10,
              "solidity": 0.2
             }
            },
            "type": "bar"
           }
          ],
          "barpolar": [
           {
            "marker": {
             "line": {
              "color": "#E5ECF6",
              "width": 0.5
             },
             "pattern": {
              "fillmode": "overlay",
              "size": 10,
              "solidity": 0.2
             }
            },
            "type": "barpolar"
           }
          ],
          "carpet": [
           {
            "aaxis": {
             "endlinecolor": "#2a3f5f",
             "gridcolor": "white",
             "linecolor": "white",
             "minorgridcolor": "white",
             "startlinecolor": "#2a3f5f"
            },
            "baxis": {
             "endlinecolor": "#2a3f5f",
             "gridcolor": "white",
             "linecolor": "white",
             "minorgridcolor": "white",
             "startlinecolor": "#2a3f5f"
            },
            "type": "carpet"
           }
          ],
          "choropleth": [
           {
            "colorbar": {
             "outlinewidth": 0,
             "ticks": ""
            },
            "type": "choropleth"
           }
          ],
          "contour": [
           {
            "colorbar": {
             "outlinewidth": 0,
             "ticks": ""
            },
            "colorscale": [
             [
              0,
              "#0d0887"
             ],
             [
              0.1111111111111111,
              "#46039f"
             ],
             [
              0.2222222222222222,
              "#7201a8"
             ],
             [
              0.3333333333333333,
              "#9c179e"
             ],
             [
              0.4444444444444444,
              "#bd3786"
             ],
             [
              0.5555555555555556,
              "#d8576b"
             ],
             [
              0.6666666666666666,
              "#ed7953"
             ],
             [
              0.7777777777777778,
              "#fb9f3a"
             ],
             [
              0.8888888888888888,
              "#fdca26"
             ],
             [
              1,
              "#f0f921"
             ]
            ],
            "type": "contour"
           }
          ],
          "contourcarpet": [
           {
            "colorbar": {
             "outlinewidth": 0,
             "ticks": ""
            },
            "type": "contourcarpet"
           }
          ],
          "heatmap": [
           {
            "colorbar": {
             "outlinewidth": 0,
             "ticks": ""
            },
            "colorscale": [
             [
              0,
              "#0d0887"
             ],
             [
              0.1111111111111111,
              "#46039f"
             ],
             [
              0.2222222222222222,
              "#7201a8"
             ],
             [
              0.3333333333333333,
              "#9c179e"
             ],
             [
              0.4444444444444444,
              "#bd3786"
             ],
             [
              0.5555555555555556,
              "#d8576b"
             ],
             [
              0.6666666666666666,
              "#ed7953"
             ],
             [
              0.7777777777777778,
              "#fb9f3a"
             ],
             [
              0.8888888888888888,
              "#fdca26"
             ],
             [
              1,
              "#f0f921"
             ]
            ],
            "type": "heatmap"
           }
          ],
          "heatmapgl": [
           {
            "colorbar": {
             "outlinewidth": 0,
             "ticks": ""
            },
            "colorscale": [
             [
              0,
              "#0d0887"
             ],
             [
              0.1111111111111111,
              "#46039f"
             ],
             [
              0.2222222222222222,
              "#7201a8"
             ],
             [
              0.3333333333333333,
              "#9c179e"
             ],
             [
              0.4444444444444444,
              "#bd3786"
             ],
             [
              0.5555555555555556,
              "#d8576b"
             ],
             [
              0.6666666666666666,
              "#ed7953"
             ],
             [
              0.7777777777777778,
              "#fb9f3a"
             ],
             [
              0.8888888888888888,
              "#fdca26"
             ],
             [
              1,
              "#f0f921"
             ]
            ],
            "type": "heatmapgl"
           }
          ],
          "histogram": [
           {
            "marker": {
             "pattern": {
              "fillmode": "overlay",
              "size": 10,
              "solidity": 0.2
             }
            },
            "type": "histogram"
           }
          ],
          "histogram2d": [
           {
            "colorbar": {
             "outlinewidth": 0,
             "ticks": ""
            },
            "colorscale": [
             [
              0,
              "#0d0887"
             ],
             [
              0.1111111111111111,
              "#46039f"
             ],
             [
              0.2222222222222222,
              "#7201a8"
             ],
             [
              0.3333333333333333,
              "#9c179e"
             ],
             [
              0.4444444444444444,
              "#bd3786"
             ],
             [
              0.5555555555555556,
              "#d8576b"
             ],
             [
              0.6666666666666666,
              "#ed7953"
             ],
             [
              0.7777777777777778,
              "#fb9f3a"
             ],
             [
              0.8888888888888888,
              "#fdca26"
             ],
             [
              1,
              "#f0f921"
             ]
            ],
            "type": "histogram2d"
           }
          ],
          "histogram2dcontour": [
           {
            "colorbar": {
             "outlinewidth": 0,
             "ticks": ""
            },
            "colorscale": [
             [
              0,
              "#0d0887"
             ],
             [
              0.1111111111111111,
              "#46039f"
             ],
             [
              0.2222222222222222,
              "#7201a8"
             ],
             [
              0.3333333333333333,
              "#9c179e"
             ],
             [
              0.4444444444444444,
              "#bd3786"
             ],
             [
              0.5555555555555556,
              "#d8576b"
             ],
             [
              0.6666666666666666,
              "#ed7953"
             ],
             [
              0.7777777777777778,
              "#fb9f3a"
             ],
             [
              0.8888888888888888,
              "#fdca26"
             ],
             [
              1,
              "#f0f921"
             ]
            ],
            "type": "histogram2dcontour"
           }
          ],
          "mesh3d": [
           {
            "colorbar": {
             "outlinewidth": 0,
             "ticks": ""
            },
            "type": "mesh3d"
           }
          ],
          "parcoords": [
           {
            "line": {
             "colorbar": {
              "outlinewidth": 0,
              "ticks": ""
             }
            },
            "type": "parcoords"
           }
          ],
          "pie": [
           {
            "automargin": true,
            "type": "pie"
           }
          ],
          "scatter": [
           {
            "fillpattern": {
             "fillmode": "overlay",
             "size": 10,
             "solidity": 0.2
            },
            "type": "scatter"
           }
          ],
          "scatter3d": [
           {
            "line": {
             "colorbar": {
              "outlinewidth": 0,
              "ticks": ""
             }
            },
            "marker": {
             "colorbar": {
              "outlinewidth": 0,
              "ticks": ""
             }
            },
            "type": "scatter3d"
           }
          ],
          "scattercarpet": [
           {
            "marker": {
             "colorbar": {
              "outlinewidth": 0,
              "ticks": ""
             }
            },
            "type": "scattercarpet"
           }
          ],
          "scattergeo": [
           {
            "marker": {
             "colorbar": {
              "outlinewidth": 0,
              "ticks": ""
             }
            },
            "type": "scattergeo"
           }
          ],
          "scattergl": [
           {
            "marker": {
             "colorbar": {
              "outlinewidth": 0,
              "ticks": ""
             }
            },
            "type": "scattergl"
           }
          ],
          "scattermapbox": [
           {
            "marker": {
             "colorbar": {
              "outlinewidth": 0,
              "ticks": ""
             }
            },
            "type": "scattermapbox"
           }
          ],
          "scatterpolar": [
           {
            "marker": {
             "colorbar": {
              "outlinewidth": 0,
              "ticks": ""
             }
            },
            "type": "scatterpolar"
           }
          ],
          "scatterpolargl": [
           {
            "marker": {
             "colorbar": {
              "outlinewidth": 0,
              "ticks": ""
             }
            },
            "type": "scatterpolargl"
           }
          ],
          "scatterternary": [
           {
            "marker": {
             "colorbar": {
              "outlinewidth": 0,
              "ticks": ""
             }
            },
            "type": "scatterternary"
           }
          ],
          "surface": [
           {
            "colorbar": {
             "outlinewidth": 0,
             "ticks": ""
            },
            "colorscale": [
             [
              0,
              "#0d0887"
             ],
             [
              0.1111111111111111,
              "#46039f"
             ],
             [
              0.2222222222222222,
              "#7201a8"
             ],
             [
              0.3333333333333333,
              "#9c179e"
             ],
             [
              0.4444444444444444,
              "#bd3786"
             ],
             [
              0.5555555555555556,
              "#d8576b"
             ],
             [
              0.6666666666666666,
              "#ed7953"
             ],
             [
              0.7777777777777778,
              "#fb9f3a"
             ],
             [
              0.8888888888888888,
              "#fdca26"
             ],
             [
              1,
              "#f0f921"
             ]
            ],
            "type": "surface"
           }
          ],
          "table": [
           {
            "cells": {
             "fill": {
              "color": "#EBF0F8"
             },
             "line": {
              "color": "white"
             }
            },
            "header": {
             "fill": {
              "color": "#C8D4E3"
             },
             "line": {
              "color": "white"
             }
            },
            "type": "table"
           }
          ]
         },
         "layout": {
          "annotationdefaults": {
           "arrowcolor": "#2a3f5f",
           "arrowhead": 0,
           "arrowwidth": 1
          },
          "autotypenumbers": "strict",
          "coloraxis": {
           "colorbar": {
            "outlinewidth": 0,
            "ticks": ""
           }
          },
          "colorscale": {
           "diverging": [
            [
             0,
             "#8e0152"
            ],
            [
             0.1,
             "#c51b7d"
            ],
            [
             0.2,
             "#de77ae"
            ],
            [
             0.3,
             "#f1b6da"
            ],
            [
             0.4,
             "#fde0ef"
            ],
            [
             0.5,
             "#f7f7f7"
            ],
            [
             0.6,
             "#e6f5d0"
            ],
            [
             0.7,
             "#b8e186"
            ],
            [
             0.8,
             "#7fbc41"
            ],
            [
             0.9,
             "#4d9221"
            ],
            [
             1,
             "#276419"
            ]
           ],
           "sequential": [
            [
             0,
             "#0d0887"
            ],
            [
             0.1111111111111111,
             "#46039f"
            ],
            [
             0.2222222222222222,
             "#7201a8"
            ],
            [
             0.3333333333333333,
             "#9c179e"
            ],
            [
             0.4444444444444444,
             "#bd3786"
            ],
            [
             0.5555555555555556,
             "#d8576b"
            ],
            [
             0.6666666666666666,
             "#ed7953"
            ],
            [
             0.7777777777777778,
             "#fb9f3a"
            ],
            [
             0.8888888888888888,
             "#fdca26"
            ],
            [
             1,
             "#f0f921"
            ]
           ],
           "sequentialminus": [
            [
             0,
             "#0d0887"
            ],
            [
             0.1111111111111111,
             "#46039f"
            ],
            [
             0.2222222222222222,
             "#7201a8"
            ],
            [
             0.3333333333333333,
             "#9c179e"
            ],
            [
             0.4444444444444444,
             "#bd3786"
            ],
            [
             0.5555555555555556,
             "#d8576b"
            ],
            [
             0.6666666666666666,
             "#ed7953"
            ],
            [
             0.7777777777777778,
             "#fb9f3a"
            ],
            [
             0.8888888888888888,
             "#fdca26"
            ],
            [
             1,
             "#f0f921"
            ]
           ]
          },
          "colorway": [
           "#636efa",
           "#EF553B",
           "#00cc96",
           "#ab63fa",
           "#FFA15A",
           "#19d3f3",
           "#FF6692",
           "#B6E880",
           "#FF97FF",
           "#FECB52"
          ],
          "font": {
           "color": "#2a3f5f"
          },
          "geo": {
           "bgcolor": "white",
           "lakecolor": "white",
           "landcolor": "#E5ECF6",
           "showlakes": true,
           "showland": true,
           "subunitcolor": "white"
          },
          "hoverlabel": {
           "align": "left"
          },
          "hovermode": "closest",
          "mapbox": {
           "style": "light"
          },
          "paper_bgcolor": "white",
          "plot_bgcolor": "#E5ECF6",
          "polar": {
           "angularaxis": {
            "gridcolor": "white",
            "linecolor": "white",
            "ticks": ""
           },
           "bgcolor": "#E5ECF6",
           "radialaxis": {
            "gridcolor": "white",
            "linecolor": "white",
            "ticks": ""
           }
          },
          "scene": {
           "xaxis": {
            "backgroundcolor": "#E5ECF6",
            "gridcolor": "white",
            "gridwidth": 2,
            "linecolor": "white",
            "showbackground": true,
            "ticks": "",
            "zerolinecolor": "white"
           },
           "yaxis": {
            "backgroundcolor": "#E5ECF6",
            "gridcolor": "white",
            "gridwidth": 2,
            "linecolor": "white",
            "showbackground": true,
            "ticks": "",
            "zerolinecolor": "white"
           },
           "zaxis": {
            "backgroundcolor": "#E5ECF6",
            "gridcolor": "white",
            "gridwidth": 2,
            "linecolor": "white",
            "showbackground": true,
            "ticks": "",
            "zerolinecolor": "white"
           }
          },
          "shapedefaults": {
           "line": {
            "color": "#2a3f5f"
           }
          },
          "ternary": {
           "aaxis": {
            "gridcolor": "white",
            "linecolor": "white",
            "ticks": ""
           },
           "baxis": {
            "gridcolor": "white",
            "linecolor": "white",
            "ticks": ""
           },
           "bgcolor": "#E5ECF6",
           "caxis": {
            "gridcolor": "white",
            "linecolor": "white",
            "ticks": ""
           }
          },
          "title": {
           "x": 0.05
          },
          "xaxis": {
           "automargin": true,
           "gridcolor": "white",
           "linecolor": "white",
           "ticks": "",
           "title": {
            "standoff": 15
           },
           "zerolinecolor": "white",
           "zerolinewidth": 2
          },
          "yaxis": {
           "automargin": true,
           "gridcolor": "white",
           "linecolor": "white",
           "ticks": "",
           "title": {
            "standoff": 15
           },
           "zerolinecolor": "white",
           "zerolinewidth": 2
          }
         }
        },
        "xaxis": {
         "anchor": "y",
         "domain": [
          0,
          1
         ],
         "range": [
          0,
          336
         ],
         "title": {
          "text": "Time (in seconds)"
         }
        },
        "yaxis": {
         "anchor": "x",
         "domain": [
          0,
          1
         ],
         "range": [
          0,
          100
         ],
         "title": {
          "text": "Attentiveness (in %)"
         }
        }
       }
      }
     },
     "metadata": {},
     "output_type": "display_data"
    }
   ],
   "source": [
    "roll = 10\n",
    "fig = plot_attention_curve(attention_df, roll)\n",
    "fig.show()"
   ]
  },
  {
   "cell_type": "code",
   "execution_count": 85,
   "metadata": {},
   "outputs": [],
   "source": [
    "def average_nan(s: pd.Series, threshold: float = 0.4):\n",
    "    na_rate = s.isna().sum() / len(s)\n",
    "    return s.mean().round(2) if na_rate <= threshold else np.nan"
   ]
  },
  {
   "cell_type": "code",
   "execution_count": 86,
   "metadata": {},
   "outputs": [
    {
     "data": {
      "text/plain": [
       "<Axes: xlabel='time_group'>"
      ]
     },
     "execution_count": 86,
     "metadata": {},
     "output_type": "execute_result"
    },
    {
     "data": {
      "image/png": "[encoded data removed]",
      "text/plain": [
       "<Figure size 640x480 with 1 Axes>"
      ]
     },
     "metadata": {},
     "output_type": "display_data"
    }
   ],
   "source": [
    "target_person = 'Gonzalo'\n",
    "\n",
    "person_mask = attention_df['recognition_prediction'] == target_person\n",
    "\n",
    "# Creating a dataframe with all timestamps available even if person is not recognized\n",
    "time_df = attention_df[['timestamp', 'time_group']].drop_duplicates()\n",
    "person_filter_df = attention_df[person_mask].drop(columns='time_group')\n",
    "person_df = pd.merge(time_df, person_filter_df, how='left', on='timestamp').set_index('timestamp')\n",
    "\n",
    "person_attention_sec = person_df[['time_group', 'attentive']] * 1\n",
    "\n",
    "person_attention_block = person_attention_sec.groupby('time_group').agg(\n",
    "    {'attentive': lambda s: average_nan(s, 0.3)}) \n",
    "\n",
    "person_attention_block.plot()"
   ]
  },
  {
   "cell_type": "code",
   "execution_count": null,
   "metadata": {},
   "outputs": [],
   "source": []
  }
 ],
 "metadata": {
  "kernelspec": {
   "display_name": "attention-env",
   "language": "python",
   "name": "python3"
  },
  "language_info": {
   "codemirror_mode": {
    "name": "ipython",
    "version": 3
   },
   "file_extension": ".py",
   "mimetype": "text/x-python",
   "name": "python",
   "nbconvert_exporter": "python",
   "pygments_lexer": "ipython3",
   "version": "3.10.6"
  },
  "orig_nbformat": 4
 },
 "nbformat": 4,
 "nbformat_minor": 2
}
