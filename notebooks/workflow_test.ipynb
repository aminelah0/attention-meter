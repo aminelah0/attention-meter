{
 "cells": [
  {
   "cell_type": "code",
   "execution_count": 2,
   "metadata": {},
   "outputs": [
    {
     "name": "stderr",
     "output_type": "stream",
     "text": [
      "objc[16818]: Class CaptureDelegate is implemented in both /Users/noah/.pyenv/versions/3.10.6/envs/attention-env/lib/python3.10/site-packages/cv2/cv2.abi3.so (0x13d5824e8) and /Users/noah/.pyenv/versions/3.10.6/envs/attention-env/lib/python3.10/site-packages/mediapipe/.dylibs/libopencv_videoio.3.4.16.dylib (0x12d37c860). One of the two will be used. Which one is undefined.\n",
      "objc[16818]: Class CVWindow is implemented in both /Users/noah/.pyenv/versions/3.10.6/envs/attention-env/lib/python3.10/site-packages/cv2/cv2.abi3.so (0x13d582538) and /Users/noah/.pyenv/versions/3.10.6/envs/attention-env/lib/python3.10/site-packages/mediapipe/.dylibs/libopencv_highgui.3.4.16.dylib (0x10e7a0a68). One of the two will be used. Which one is undefined.\n",
      "objc[16818]: Class CVView is implemented in both /Users/noah/.pyenv/versions/3.10.6/envs/attention-env/lib/python3.10/site-packages/cv2/cv2.abi3.so (0x13d582560) and /Users/noah/.pyenv/versions/3.10.6/envs/attention-env/lib/python3.10/site-packages/mediapipe/.dylibs/libopencv_highgui.3.4.16.dylib (0x10e7a0a90). One of the two will be used. Which one is undefined.\n",
      "objc[16818]: Class CVSlider is implemented in both /Users/noah/.pyenv/versions/3.10.6/envs/attention-env/lib/python3.10/site-packages/cv2/cv2.abi3.so (0x13d582588) and /Users/noah/.pyenv/versions/3.10.6/envs/attention-env/lib/python3.10/site-packages/mediapipe/.dylibs/libopencv_highgui.3.4.16.dylib (0x10e7a0ab8). One of the two will be used. Which one is undefined.\n"
     ]
    }
   ],
   "source": [
    "%load_ext autoreload\n",
    "%autoreload 2\n",
    "\n",
    "import os\n",
    "import cv2\n",
    "import matplotlib.pyplot as plt\n",
    "from attention.img_proc.img_process import *\n",
    "from attention.img_proc.img_split import *\n",
    "from attention.models.face_models import *\n",
    "from attention.utils.img_plot import *\n",
    "from attention.utils.utilities import *\n",
    "import copy"
   ]
  },
  {
   "attachments": {},
   "cell_type": "markdown",
   "metadata": {},
   "source": [
    "## DETECT FACES ON GROUP IMAGE (splittmng image for better detection)"
   ]
  },
  {
   "attachments": {},
   "cell_type": "markdown",
   "metadata": {},
   "source": [
    "### Loading image"
   ]
  },
  {
   "cell_type": "code",
   "execution_count": 3,
   "metadata": {},
   "outputs": [],
   "source": [
    "image_name = \"IMG_3288 2 copy.jpg\"\n",
    "image_path = os.path.join(os.path.expanduser('~'), \"Desktop\", \"IMG_3288 2 copy.jpg\")"
   ]
  },
  {
   "cell_type": "code",
   "execution_count": 4,
   "metadata": {},
   "outputs": [
    {
     "name": "stderr",
     "output_type": "stream",
     "text": [
      "[ WARN:0@1.224] global loadsave.cpp:244 findDecoder imread_('/Users/noah/Desktop/IMG_3288 2 copy.jpg'): can't open/read file: check file path/integrity\n"
     ]
    },
    {
     "ename": "error",
     "evalue": "OpenCV(4.7.0) /Users/xperience/GHA-OCV-Python/_work/opencv-python/opencv-python/opencv/modules/imgproc/src/color.cpp:182: error: (-215:Assertion failed) !_src.empty() in function 'cvtColor'\n",
     "output_type": "error",
     "traceback": [
      "\u001b[0;31m---------------------------------------------------------------------------\u001b[0m",
      "\u001b[0;31merror\u001b[0m                                     Traceback (most recent call last)",
      "Cell \u001b[0;32mIn[4], line 1\u001b[0m\n\u001b[0;32m----> 1\u001b[0m image \u001b[39m=\u001b[39m cv2_process(image_path)\n\u001b[1;32m      2\u001b[0m \u001b[39m# plt.imshow(image)\u001b[39;00m\n",
      "File \u001b[0;32m~/code/aminelah0/final-attention/attention/img_proc/img_process.py:13\u001b[0m, in \u001b[0;36mcv2_process\u001b[0;34m(image_path)\u001b[0m\n\u001b[1;32m     10\u001b[0m image_array \u001b[39m=\u001b[39m cv2\u001b[39m.\u001b[39mimread(image_path)\n\u001b[1;32m     12\u001b[0m \u001b[39m#Convert the BGR image to RGB\u001b[39;00m\n\u001b[0;32m---> 13\u001b[0m image_rgb \u001b[39m=\u001b[39m cv2\u001b[39m.\u001b[39;49mcvtColor(image_array, cv2\u001b[39m.\u001b[39;49mCOLOR_BGR2RGB)\n\u001b[1;32m     15\u001b[0m \u001b[39mreturn\u001b[39;00m image_rgb\n",
      "\u001b[0;31merror\u001b[0m: OpenCV(4.7.0) /Users/xperience/GHA-OCV-Python/_work/opencv-python/opencv-python/opencv/modules/imgproc/src/color.cpp:182: error: (-215:Assertion failed) !_src.empty() in function 'cvtColor'\n"
     ]
    }
   ],
   "source": [
    "image = cv2_process(image_path)\n",
    "# plt.imshow(image)"
   ]
  },
  {
   "cell_type": "markdown",
   "metadata": {},
   "source": [
    "### Splitting in multiple crops"
   ]
  },
  {
   "cell_type": "markdown",
   "metadata": {},
   "source": [
    "#### Defining number of crops along the axes"
   ]
  },
  {
   "cell_type": "code",
   "execution_count": 30,
   "metadata": {},
   "outputs": [],
   "source": [
    "n_split_w = 12\n",
    "n_split_h = 12"
   ]
  },
  {
   "cell_type": "markdown",
   "metadata": {},
   "source": [
    "#### Cropping the image\n"
   ]
  },
  {
   "cell_type": "code",
   "execution_count": 31,
   "metadata": {},
   "outputs": [],
   "source": [
    "crops = split_image(image, n_split_w, n_split_h, 0.02, 0.02)\n",
    "# show_crops(crops)"
   ]
  },
  {
   "cell_type": "markdown",
   "metadata": {},
   "source": [
    "### Generating bboxes and processing them "
   ]
  },
  {
   "cell_type": "markdown",
   "metadata": {},
   "source": [
    "#### Listing the bbox coordinates in the crops"
   ]
  },
  {
   "cell_type": "code",
   "execution_count": 32,
   "metadata": {},
   "outputs": [
    {
     "data": {
      "text/plain": [
       "[[],\n",
       " [],\n",
       " [],\n",
       " [],\n",
       " [],\n",
       " [],\n",
       " [],\n",
       " [],\n",
       " [],\n",
       " [],\n",
       " [],\n",
       " [],\n",
       " [],\n",
       " [],\n",
       " [],\n",
       " [],\n",
       " [],\n",
       " [],\n",
       " [],\n",
       " [],\n",
       " [],\n",
       " [],\n",
       " [],\n",
       " [],\n",
       " [],\n",
       " [],\n",
       " [],\n",
       " [],\n",
       " [],\n",
       " [],\n",
       " [],\n",
       " [],\n",
       " [],\n",
       " [],\n",
       " [],\n",
       " [],\n",
       " [],\n",
       " [],\n",
       " [],\n",
       " [],\n",
       " [],\n",
       " [],\n",
       " [],\n",
       " [],\n",
       " [],\n",
       " [],\n",
       " [],\n",
       " [],\n",
       " [],\n",
       " [],\n",
       " [],\n",
       " [],\n",
       " [],\n",
       " [],\n",
       " [],\n",
       " [],\n",
       " [],\n",
       " [],\n",
       " [],\n",
       " [],\n",
       " [],\n",
       " [],\n",
       " [{'x1': 776, 'x2': 899, 'y1': 1480, 'y2': 1613}],\n",
       " [{'x1': 1301, 'x2': 1404, 'y1': 1476, 'y2': 1569}],\n",
       " [{'x1': 1317, 'x2': 1388, 'y1': 1476, 'y2': 1571}],\n",
       " [],\n",
       " [],\n",
       " [],\n",
       " [],\n",
       " [{'x1': 3129, 'x2': 3253, 'y1': 1402, 'y2': 1529}],\n",
       " [],\n",
       " [],\n",
       " [],\n",
       " [],\n",
       " [{'x1': 776, 'x2': 900, 'y1': 1494, 'y2': 1602}],\n",
       " [{'x1': 1301, 'x2': 1403, 'y1': 1491, 'y2': 1557}],\n",
       " [{'x1': 1315, 'x2': 1388, 'y1': 1488, 'y2': 1559}],\n",
       " [],\n",
       " [],\n",
       " [{'x1': 2645, 'x2': 2728, 'y1': 1552, 'y2': 1605}],\n",
       " [{'x1': 2886, 'x2': 2948, 'y1': 1475, 'y2': 1508}],\n",
       " [],\n",
       " [{'x1': 3483, 'x2': 3622, 'y1': 1527, 'y2': 1652}],\n",
       " [],\n",
       " [],\n",
       " [],\n",
       " [],\n",
       " [],\n",
       " [],\n",
       " [],\n",
       " [],\n",
       " [],\n",
       " [],\n",
       " [],\n",
       " [],\n",
       " [],\n",
       " [],\n",
       " [],\n",
       " [],\n",
       " [],\n",
       " [],\n",
       " [],\n",
       " [],\n",
       " [],\n",
       " [],\n",
       " [],\n",
       " [],\n",
       " [],\n",
       " [],\n",
       " [],\n",
       " [],\n",
       " [],\n",
       " [],\n",
       " [],\n",
       " [],\n",
       " [],\n",
       " [],\n",
       " [],\n",
       " [],\n",
       " [],\n",
       " [],\n",
       " [],\n",
       " [],\n",
       " [],\n",
       " [],\n",
       " [],\n",
       " [],\n",
       " [],\n",
       " [],\n",
       " [],\n",
       " [],\n",
       " [],\n",
       " [],\n",
       " [],\n",
       " [],\n",
       " [],\n",
       " [],\n",
       " [],\n",
       " [],\n",
       " [],\n",
       " [],\n",
       " [],\n",
       " [],\n",
       " []]"
      ]
     },
     "execution_count": 32,
     "metadata": {},
     "output_type": "execute_result"
    }
   ],
   "source": [
    "# as per the crop coordinate system and the absolute coordinate system\n",
    "bbox_crop_list = []\n",
    "bbox_crop_list_absolute = []\n",
    "for crop in crops:\n",
    "    coord_set = detect_face(crop.image)\n",
    "    bbox_crop_list.append(coord_set)\n",
    "    coord_set_absolute = reconstruct_coord(crop, coord_set)\n",
    "    bbox_crop_list_absolute.append(coord_set_absolute)\n",
    "bbox_crop_list_absolute"
   ]
  },
  {
   "cell_type": "markdown",
   "metadata": {},
   "source": [
    "#### Drawing the bbox on each crop \n"
   ]
  },
  {
   "cell_type": "code",
   "execution_count": 33,
   "metadata": {},
   "outputs": [],
   "source": [
    "crops_annotated = []\n",
    "for i in range(len(crops)):\n",
    "    crop_annotated = copy.copy(crops[i])\n",
    "    crop_annotated.image = output_image_bboxes(crop_annotated.image, bbox_crop_list[i])\n",
    "    crops_annotated.append(crop_annotated)\n",
    "# show_crops(crops_annotated)"
   ]
  },
  {
   "cell_type": "markdown",
   "metadata": {},
   "source": [
    "#### Eliminating duplicate bboxes"
   ]
  },
  {
   "cell_type": "code",
   "execution_count": 34,
   "metadata": {},
   "outputs": [
    {
     "data": {
      "text/plain": [
       "[{'x1': 776, 'x2': 899, 'y1': 1480, 'y2': 1613},\n",
       " {'x1': 1301, 'x2': 1404, 'y1': 1476, 'y2': 1569},\n",
       " {'x1': 3129, 'x2': 3253, 'y1': 1402, 'y2': 1529},\n",
       " {'x1': 2645, 'x2': 2728, 'y1': 1552, 'y2': 1605},\n",
       " {'x1': 2886, 'x2': 2948, 'y1': 1475, 'y2': 1508},\n",
       " {'x1': 3483, 'x2': 3622, 'y1': 1527, 'y2': 1652}]"
      ]
     },
     "execution_count": 34,
     "metadata": {},
     "output_type": "execute_result"
    }
   ],
   "source": [
    "bbox_list = bbox_merge(bbox_crop_list_absolute)\n",
    "bbox_list"
   ]
  },
  {
   "cell_type": "markdown",
   "metadata": {},
   "source": [
    "## Generating final image output"
   ]
  },
  {
   "cell_type": "markdown",
   "metadata": {},
   "source": [
    "#### Drawing the unique bboxes on the original image "
   ]
  },
  {
   "cell_type": "code",
   "execution_count": 1,
   "metadata": {},
   "outputs": [
    {
     "ename": "NameError",
     "evalue": "name 'output_image_bboxes' is not defined",
     "output_type": "error",
     "traceback": [
      "\u001b[0;31m---------------------------------------------------------------------------\u001b[0m",
      "\u001b[0;31mNameError\u001b[0m                                 Traceback (most recent call last)",
      "Cell \u001b[0;32mIn[1], line 1\u001b[0m\n\u001b[0;32m----> 1\u001b[0m image_output \u001b[39m=\u001b[39m output_image_bboxes(image, bbox_list)\n\u001b[1;32m      2\u001b[0m plt\u001b[39m.\u001b[39mimshow(image_output)\n",
      "\u001b[0;31mNameError\u001b[0m: name 'output_image_bboxes' is not defined"
     ]
    }
   ],
   "source": [
    "image_output = output_image_bboxes(image, bbox_list)\n",
    "plt.imshow(image_output)"
   ]
  },
  {
   "cell_type": "markdown",
   "metadata": {},
   "source": [
    "### Saving the image output"
   ]
  },
  {
   "cell_type": "code",
   "execution_count": 36,
   "metadata": {},
   "outputs": [
    {
     "data": {
      "text/plain": [
       "True"
      ]
     },
     "execution_count": 36,
     "metadata": {},
     "output_type": "execute_result"
    }
   ],
   "source": [
    "image_output_rgb = cv2.cvtColor(image_output, cv2.COLOR_RGB2BGR)\n",
    "output_path = os.path.join(os.path.expanduser('~'), \"Desktop\", \"output\")\n",
    "\n",
    "cv2.imwrite(os.path.join(output_path, image_name), image_output_rgb)"
   ]
  },
  {
   "cell_type": "markdown",
   "metadata": {},
   "source": [
    "# DETECTING EYES AND IRIS ON FACES"
   ]
  },
  {
   "cell_type": "markdown",
   "metadata": {},
   "source": [
    "### Generating faces"
   ]
  },
  {
   "cell_type": "code",
   "execution_count": 37,
   "metadata": {},
   "outputs": [],
   "source": [
    "faces = crop_faces(image, bbox_list)\n",
    "face = faces[1]\n",
    "# plt.imshow(face)"
   ]
  },
  {
   "attachments": {},
   "cell_type": "markdown",
   "metadata": {},
   "source": [
    "### Generating eye and iris landmarks for one face"
   ]
  },
  {
   "attachments": {},
   "cell_type": "markdown",
   "metadata": {},
   "source": [
    "#### Running face mesh model on the face"
   ]
  },
  {
   "cell_type": "code",
   "execution_count": 38,
   "metadata": {},
   "outputs": [],
   "source": [
    "mp_landmarks = find_landmarks(face)"
   ]
  },
  {
   "cell_type": "markdown",
   "metadata": {},
   "source": [
    "#### Drawing the face mesh on the face"
   ]
  },
  {
   "cell_type": "code",
   "execution_count": 39,
   "metadata": {},
   "outputs": [],
   "source": [
    "face_annotated = output_face_landmarks(face, mp_landmarks)\n",
    "# plt.imshow(face_annotated)"
   ]
  },
  {
   "attachments": {},
   "cell_type": "markdown",
   "metadata": {},
   "source": [
    "#### Converting the Mediapipe landmark to a standard system of coordinates"
   ]
  },
  {
   "cell_type": "code",
   "execution_count": 40,
   "metadata": {},
   "outputs": [
    {
     "data": {
      "text/plain": [
       "[(52, 55),\n",
       " (51, 41),\n",
       " (51, 47),\n",
       " (48, 35),\n",
       " (51, 38),\n",
       " (51, 36),\n",
       " (51, 31),\n",
       " (30, 35),\n",
       " (50, 26),\n",
       " (50, 22),\n",
       " (50, 12),\n",
       " (52, 56),\n",
       " (52, 57),\n",
       " (52, 57),\n",
       " (52, 58),\n",
       " (52, 58),\n",
       " (52, 59),\n",
       " (52, 61),\n",
       " (52, 65),\n",
       " (51, 43),\n",
       " (49, 44),\n",
       " (17, 30),\n",
       " (38, 36),\n",
       " (36, 37),\n",
       " (33, 37),\n",
       " (29, 36),\n",
       " (41, 35),\n",
       " (34, 28),\n",
       " (37, 28),\n",
       " (31, 29),\n",
       " (29, 31),\n",
       " (26, 38),\n",
       " (40, 72),\n",
       " (29, 35),\n",
       " (16, 41),\n",
       " (22, 37),\n",
       " (36, 45),\n",
       " (48, 54),\n",
       " (49, 57),\n",
       " (45, 56),\n",
       " (42, 58),\n",
       " (46, 58),\n",
       " (44, 59),\n",
       " (38, 63),\n",
       " (49, 41),\n",
       " (48, 39),\n",
       " (24, 28),\n",
       " (42, 39),\n",
       " (42, 44),\n",
       " (41, 43),\n",
       " (27, 47),\n",
       " (48, 36),\n",
       " (32, 23),\n",
       " (27, 25),\n",
       " (20, 23),\n",
       " (45, 25),\n",
       " (40, 29),\n",
       " (35, 61),\n",
       " (19, 70),\n",
       " (44, 45),\n",
       " (47, 46),\n",
       " (40, 61),\n",
       " (40, 61),\n",
       " (25, 23),\n",
       " (42, 46),\n",
       " (38, 23),\n",
       " (37, 21),\n",
       " (33, 14),\n",
       " (23, 24),\n",
       " (35, 18),\n",
       " (21, 27),\n",
       " (19, 29),\n",
       " (49, 56),\n",
       " (45, 57),\n",
       " (43, 58),\n",
       " (45, 46),\n",
       " (40, 61),\n",
       " (41, 61),\n",
       " (41, 61),\n",
       " (46, 43),\n",
       " (44, 59),\n",
       " (46, 58),\n",
       " (49, 58),\n",
       " (48, 65),\n",
       " (48, 61),\n",
       " (49, 60),\n",
       " (49, 59),\n",
       " (49, 58),\n",
       " (44, 59),\n",
       " (43, 60),\n",
       " (43, 60),\n",
       " (43, 61),\n",
       " (39, 54),\n",
       " (15, 57),\n",
       " (51, 45),\n",
       " (42, 60),\n",
       " (42, 60),\n",
       " (48, 47),\n",
       " (43, 48),\n",
       " (47, 46),\n",
       " (39, 41),\n",
       " (34, 43),\n",
       " (41, 45),\n",
       " (25, 18),\n",
       " (28, 20),\n",
       " (30, 21),\n",
       " (40, 64),\n",
       " (44, 21),\n",
       " (42, 17),\n",
       " (41, 13),\n",
       " (30, 37),\n",
       " (23, 40),\n",
       " (42, 34),\n",
       " (26, 32),\n",
       " (44, 36),\n",
       " (44, 42),\n",
       " (19, 44),\n",
       " (25, 41),\n",
       " (29, 41),\n",
       " (35, 40),\n",
       " (39, 39),\n",
       " (42, 37),\n",
       " (48, 32),\n",
       " (19, 49),\n",
       " (23, 32),\n",
       " (50, 43),\n",
       " (42, 40),\n",
       " (14, 44),\n",
       " (45, 35),\n",
       " (41, 46),\n",
       " (27, 35),\n",
       " (43, 41),\n",
       " (16, 64),\n",
       " (42, 33),\n",
       " (46, 38),\n",
       " (26, 71),\n",
       " (26, 76),\n",
       " (16, 53),\n",
       " (22, 68),\n",
       " (17, 35),\n",
       " (39, 76),\n",
       " (50, 45),\n",
       " (40, 43),\n",
       " (19, 38),\n",
       " (33, 35),\n",
       " (36, 35),\n",
       " (41, 61),\n",
       " (20, 55),\n",
       " (45, 81),\n",
       " (35, 79),\n",
       " (31, 78),\n",
       " (50, 17),\n",
       " (52, 81),\n",
       " (38, 35),\n",
       " (40, 34),\n",
       " (41, 34),\n",
       " (20, 32),\n",
       " (40, 33),\n",
       " (37, 33),\n",
       " (35, 33),\n",
       " (33, 33),\n",
       " (31, 34),\n",
       " (15, 36),\n",
       " (32, 35),\n",
       " (51, 49),\n",
       " (41, 52),\n",
       " (44, 44),\n",
       " (47, 49),\n",
       " (51, 29),\n",
       " (30, 73),\n",
       " (34, 75),\n",
       " (45, 77),\n",
       " (22, 74),\n",
       " (41, 33),\n",
       " (46, 35),\n",
       " (52, 77),\n",
       " (40, 80),\n",
       " (17, 59),\n",
       " (46, 58),\n",
       " (46, 59),\n",
       " (45, 60),\n",
       " (45, 61),\n",
       " (44, 65),\n",
       " (42, 60),\n",
       " (41, 60),\n",
       " (41, 60),\n",
       " (36, 57),\n",
       " (24, 54),\n",
       " (46, 34),\n",
       " (44, 30),\n",
       " (43, 31),\n",
       " (42, 60),\n",
       " (24, 62),\n",
       " (47, 29),\n",
       " (42, 69),\n",
       " (51, 34),\n",
       " (48, 33),\n",
       " (51, 32),\n",
       " (44, 39),\n",
       " (52, 73),\n",
       " (52, 69),\n",
       " (47, 69),\n",
       " (34, 65),\n",
       " (38, 48),\n",
       " (38, 67),\n",
       " (31, 49),\n",
       " (36, 52),\n",
       " (29, 55),\n",
       " (46, 73),\n",
       " (42, 42),\n",
       " (31, 68),\n",
       " (35, 71),\n",
       " (32, 62),\n",
       " (21, 60),\n",
       " (28, 64),\n",
       " (19, 64),\n",
       " (33, 56),\n",
       " (44, 38),\n",
       " (45, 42),\n",
       " (43, 44),\n",
       " (46, 40),\n",
       " (42, 28),\n",
       " (37, 26),\n",
       " (33, 26),\n",
       " (30, 27),\n",
       " (27, 29),\n",
       " (25, 36),\n",
       " (15, 47),\n",
       " (28, 39),\n",
       " (31, 39),\n",
       " (35, 38),\n",
       " (39, 37),\n",
       " (41, 36),\n",
       " (43, 35),\n",
       " (14, 51),\n",
       " (43, 45),\n",
       " (46, 37),\n",
       " (47, 42),\n",
       " (49, 43),\n",
       " (47, 43),\n",
       " (44, 47),\n",
       " (49, 43),\n",
       " (49, 45),\n",
       " (43, 33),\n",
       " (45, 33),\n",
       " (46, 33),\n",
       " (30, 34),\n",
       " (28, 33),\n",
       " (53, 35),\n",
       " (71, 34),\n",
       " (53, 44),\n",
       " (84, 30),\n",
       " (63, 36),\n",
       " (66, 36),\n",
       " (69, 36),\n",
       " (73, 36),\n",
       " (61, 35),\n",
       " (67, 28),\n",
       " (64, 28),\n",
       " (70, 29),\n",
       " (72, 30),\n",
       " (75, 38),\n",
       " (64, 72),\n",
       " (72, 34),\n",
       " (85, 41),\n",
       " (79, 36),\n",
       " (66, 45),\n",
       " (55, 54),\n",
       " (55, 57),\n",
       " (59, 56),\n",
       " (62, 57),\n",
       " (58, 57),\n",
       " (61, 58),\n",
       " (66, 63),\n",
       " (53, 41),\n",
       " (54, 39),\n",
       " (77, 28),\n",
       " (60, 39),\n",
       " (60, 44),\n",
       " (60, 43),\n",
       " (75, 47),\n",
       " (54, 36),\n",
       " (70, 23),\n",
       " (74, 25),\n",
       " (80, 23),\n",
       " (57, 24),\n",
       " (61, 29),\n",
       " (68, 61),\n",
       " (83, 69),\n",
       " (58, 45),\n",
       " (55, 46),\n",
       " (65, 60),\n",
       " (64, 60),\n",
       " (76, 23),\n",
       " (60, 46),\n",
       " (64, 22),\n",
       " (65, 20),\n",
       " (67, 14),\n",
       " (78, 24),\n",
       " (65, 18),\n",
       " (79, 27),\n",
       " (81, 29),\n",
       " (56, 56),\n",
       " (59, 57),\n",
       " (61, 58),\n",
       " (57, 46),\n",
       " (64, 60),\n",
       " (63, 60),\n",
       " (64, 60),\n",
       " (56, 43),\n",
       " (60, 58),\n",
       " (58, 58),\n",
       " (55, 57),\n",
       " (56, 65),\n",
       " (56, 61),\n",
       " (56, 59),\n",
       " (55, 58),\n",
       " (55, 58),\n",
       " (60, 58),\n",
       " (61, 59),\n",
       " (61, 60),\n",
       " (62, 60),\n",
       " (64, 54),\n",
       " (86, 57),\n",
       " (62, 59),\n",
       " (62, 59),\n",
       " (55, 47),\n",
       " (59, 48),\n",
       " (55, 46),\n",
       " (63, 41),\n",
       " (68, 43),\n",
       " (61, 45),\n",
       " (75, 18),\n",
       " (73, 20),\n",
       " (71, 21),\n",
       " (63, 64),\n",
       " (58, 21),\n",
       " (58, 17),\n",
       " (59, 13),\n",
       " (71, 36),\n",
       " (79, 40),\n",
       " (59, 34),\n",
       " (76, 32),\n",
       " (58, 36),\n",
       " (58, 42),\n",
       " (83, 43),\n",
       " (76, 41),\n",
       " (72, 41),\n",
       " (67, 40),\n",
       " (63, 39),\n",
       " (59, 37),\n",
       " (53, 32),\n",
       " (82, 49),\n",
       " (78, 32),\n",
       " (52, 43),\n",
       " (60, 40),\n",
       " (86, 44),\n",
       " (57, 35),\n",
       " (61, 46),\n",
       " (74, 34),\n",
       " (58, 41),\n",
       " (85, 63),\n",
       " (59, 33),\n",
       " (56, 38),\n",
       " (77, 70),\n",
       " (78, 76),\n",
       " (85, 53),\n",
       " (81, 68),\n",
       " (83, 35),\n",
       " (65, 76),\n",
       " (52, 45),\n",
       " (62, 43),\n",
       " (82, 38),\n",
       " (69, 35),\n",
       " (66, 35),\n",
       " (63, 60),\n",
       " (82, 55),\n",
       " (60, 81),\n",
       " (69, 79),\n",
       " (73, 78),\n",
       " (64, 35),\n",
       " (62, 34),\n",
       " (60, 34),\n",
       " (81, 32),\n",
       " (62, 32),\n",
       " (64, 32),\n",
       " (66, 32),\n",
       " (69, 32),\n",
       " (70, 33),\n",
       " (86, 36),\n",
       " (70, 35),\n",
       " (61, 52),\n",
       " (58, 44),\n",
       " (55, 49),\n",
       " (74, 73),\n",
       " (70, 75),\n",
       " (60, 77),\n",
       " (81, 73),\n",
       " (60, 33),\n",
       " (56, 35),\n",
       " (65, 80),\n",
       " (85, 59),\n",
       " (58, 58),\n",
       " (58, 58),\n",
       " (59, 59),\n",
       " (59, 60),\n",
       " (60, 65),\n",
       " (63, 59),\n",
       " (63, 59),\n",
       " (64, 59),\n",
       " (66, 57),\n",
       " (78, 54),\n",
       " (55, 34),\n",
       " (57, 30),\n",
       " (59, 31),\n",
       " (62, 59),\n",
       " (79, 62),\n",
       " (54, 29),\n",
       " (62, 68),\n",
       " (53, 33),\n",
       " (58, 39),\n",
       " (57, 69),\n",
       " (69, 65),\n",
       " (64, 48),\n",
       " (66, 67),\n",
       " (71, 49),\n",
       " (67, 51),\n",
       " (74, 54),\n",
       " (59, 73),\n",
       " (60, 42),\n",
       " (72, 68),\n",
       " (68, 70),\n",
       " (71, 62),\n",
       " (82, 60),\n",
       " (75, 63),\n",
       " (83, 64),\n",
       " (70, 56),\n",
       " (58, 38),\n",
       " (57, 42),\n",
       " (59, 44),\n",
       " (56, 40),\n",
       " (59, 27),\n",
       " (64, 26),\n",
       " (68, 26),\n",
       " (72, 27),\n",
       " (74, 29),\n",
       " (76, 35),\n",
       " (86, 47),\n",
       " (74, 38),\n",
       " (71, 38),\n",
       " (67, 38),\n",
       " (63, 37),\n",
       " (60, 36),\n",
       " (58, 35),\n",
       " (86, 50),\n",
       " (59, 46),\n",
       " (56, 37),\n",
       " (55, 41),\n",
       " (54, 43),\n",
       " (55, 43),\n",
       " (58, 47),\n",
       " (53, 43),\n",
       " (53, 45),\n",
       " (58, 33),\n",
       " (56, 33),\n",
       " (55, 33),\n",
       " (71, 33),\n",
       " (74, 32),\n",
       " (36, 34),\n",
       " (38, 33),\n",
       " (35, 32),\n",
       " (33, 34),\n",
       " (36, 36),\n",
       " (66, 33),\n",
       " (69, 33),\n",
       " (66, 31),\n",
       " (63, 33),\n",
       " (65, 35)]"
      ]
     },
     "execution_count": 40,
     "metadata": {},
     "output_type": "execute_result"
    }
   ],
   "source": [
    "landmark_list = convert_landmarks(face, mp_landmarks)\n",
    "landmark_list"
   ]
  },
  {
   "cell_type": "markdown",
   "metadata": {},
   "source": [
    "#### Defining the landmarks we want to focus on"
   ]
  },
  {
   "cell_type": "code",
   "execution_count": 41,
   "metadata": {},
   "outputs": [],
   "source": [
    "# GLOBAL PARAMS: LANDMARK INDICES\n",
    "LEFT_EYE_EDGES =[362, 263]\n",
    "RIGHT_EYE_EDGES =[33, 133]\n",
    "\n",
    "LEFT_IRIS_CONTOUR = [474, 475, 476, 477]\n",
    "RIGHT_IRIS_CONTOUR = [469, 470, 471, 472]\n",
    "\n",
    "LEFT_IRIS_CENTER = [473]\n",
    "RIGHT_IRIS_CENTER = [468]"
   ]
  },
  {
   "cell_type": "code",
   "execution_count": 42,
   "metadata": {},
   "outputs": [],
   "source": [
    "# Indices of the landmarks we focus on\n",
    "landmark_idx = LEFT_EYE_EDGES  + LEFT_IRIS_CENTER + RIGHT_EYE_EDGES + RIGHT_IRIS_CENTER"
   ]
  },
  {
   "cell_type": "code",
   "execution_count": 43,
   "metadata": {},
   "outputs": [
    {
     "data": {
      "text/plain": [
       "[(59, 33), (72, 34), (66, 33), (29, 35), (42, 33), (36, 34)]"
      ]
     },
     "execution_count": 43,
     "metadata": {},
     "output_type": "execute_result"
    }
   ],
   "source": [
    "# Extracting the coordinates of the landmarks we focus on\n",
    "landmark_focus_x = [landmark_list[idx] for idx in landmark_idx]\n",
    "landmark_focus_x"
   ]
  },
  {
   "attachments": {},
   "cell_type": "markdown",
   "metadata": {},
   "source": [
    "### Generating final image output"
   ]
  },
  {
   "attachments": {},
   "cell_type": "markdown",
   "metadata": {},
   "source": [
    "#### Drawing the points on the face image"
   ]
  },
  {
   "cell_type": "code",
   "execution_count": 44,
   "metadata": {},
   "outputs": [
    {
     "data": {
      "text/plain": [
       "<matplotlib.image.AxesImage at 0x2a8f9a590>"
      ]
     },
     "execution_count": 44,
     "metadata": {},
     "output_type": "execute_result"
    },
    {
     "data": {
      "image/png": "[encoded data removed]",
      "text/plain": [
       "<Figure size 640x480 with 1 Axes>"
      ]
     },
     "metadata": {},
     "output_type": "display_data"
    }
   ],
   "source": [
    "face_spec_lm = output_specific_landmarks(face, landmark_list, landmark_idx)\n",
    "plt.imshow(face_spec_lm)"
   ]
  },
  {
   "attachments": {},
   "cell_type": "markdown",
   "metadata": {},
   "source": [
    "### Saving the face image output"
   ]
  },
  {
   "cell_type": "code",
   "execution_count": 45,
   "metadata": {},
   "outputs": [
    {
     "data": {
      "text/plain": [
       "True"
      ]
     },
     "execution_count": 45,
     "metadata": {},
     "output_type": "execute_result"
    }
   ],
   "source": [
    "face_output_rgb = cv2.cvtColor(face_spec_lm, cv2.COLOR_RGB2BGR)\n",
    "output_path = os.path.join(os.path.expanduser('~'), \"Desktop\", \"output\")\n",
    "face_name = 'noah_lm.jpg'\n",
    "\n",
    "cv2.imwrite(os.path.join(output_path, face_name), face_output_rgb)"
   ]
  }
 ],
 "metadata": {
  "kernelspec": {
   "display_name": "attention-env",
   "language": "python",
   "name": "python3"
  },
  "language_info": {
   "codemirror_mode": {
    "name": "ipython",
    "version": 3
   },
   "file_extension": ".py",
   "mimetype": "text/x-python",
   "name": "python",
   "nbconvert_exporter": "python",
   "pygments_lexer": "ipython3",
   "version": "3.10.6"
  },
  "orig_nbformat": 4
 },
 "nbformat": 4,
 "nbformat_minor": 2
}
