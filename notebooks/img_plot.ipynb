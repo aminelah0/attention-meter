{
 "cells": [
  {
   "cell_type": "code",
   "execution_count": 3,
   "metadata": {},
   "outputs": [],
   "source": [
    "import cv2\n",
    "import numpy as np\n",
    "import matplotlib.pyplot as plt"
   ]
  },
  {
   "cell_type": "code",
   "execution_count": 13,
   "metadata": {},
   "outputs": [],
   "source": [
    "class ImageCrop:\n",
    "    def __init__(self):\n",
    "        self.image = None\n",
    "        self.i_x = None\n",
    "        self.i_y = None\n",
    "        self.x_c = None\n",
    "        self.y_c = None\n",
    "        self.width = None\n",
    "        self.height = None"
   ]
  },
  {
   "cell_type": "code",
   "execution_count": 11,
   "metadata": {},
   "outputs": [],
   "source": [
    "def show_multi_images(image_list: list[np.ndarray]) -> plt:\n",
    "    '''Shows multiple images in 1 row'''\n",
    "    fig, axs = plt.subplots(1, len(image_list), figsize=(20, 10))\n",
    "    for i, image in enumerate(image_list):\n",
    "        axs[i].imshow(image)\n",
    "    return plt.show()"
   ]
  },
  {
   "cell_type": "code",
   "execution_count": 14,
   "metadata": {},
   "outputs": [],
   "source": [
    "def show_crops(crops: list[ImageCrop]):\n",
    "    'Shows all crops from original image as per how they were split along the axes'\n",
    "    n_columns = crops[-1].i_x\n",
    "    n_rows = crops[-1].i_y\n",
    "    fig, axs = plt.subplots(n_columns, n_rows, figsize=(20, 10))\n",
    "    for i, crop in enumerate(crops):\n",
    "        axs[i].imshow(crop.image)\n",
    "    return plt.show()"
   ]
  }
 ],
 "metadata": {
  "kernelspec": {
   "display_name": "attention-env",
   "language": "python",
   "name": "python3"
  },
  "language_info": {
   "codemirror_mode": {
    "name": "ipython",
    "version": 3
   },
   "file_extension": ".py",
   "mimetype": "text/x-python",
   "name": "python",
   "nbconvert_exporter": "python",
   "pygments_lexer": "ipython3",
   "version": "3.10.6"
  },
  "orig_nbformat": 4
 },
 "nbformat": 4,
 "nbformat_minor": 2
}
