{
 "cells": [
  {
   "cell_type": "code",
   "execution_count": 4,
   "metadata": {},
   "outputs": [],
   "source": [
    "# Import libraries \n",
    "from mediapipe.python.solutions import face_detection, face_mesh\n",
    "import numpy as np\n",
    "import mediapipe.framework.formats.landmark_pb2 as mp_landmark"
   ]
  },
  {
   "cell_type": "code",
   "execution_count": 3,
   "metadata": {},
   "outputs": [],
   "source": [
    "def detect_face(image_rgb: np.ndarray) -> list[dict]:\n",
    "    ''' Takes an image array, detects the faces and returns a list of bbox coordinates for each face detected'''\n",
    "    \n",
    "    with face_detection.FaceDetection(\n",
    "        model_selection=1, min_detection_confidence=0.5) as face_det:\n",
    "        results = face_det.process(image_rgb)\n",
    "        coord_set = [] \n",
    "        if results.detections: \n",
    "            for detection in results.detections: \n",
    "                bbox = detection.location_data.relative_bounding_box\n",
    "                h, w, _ = image_rgb.shape\n",
    "                x1 = int(bbox.xmin * w) - int(0.05 * int(bbox.xmin * w))\n",
    "                y1 = int(bbox.ymin * h) - int(0.05 * int(bbox.ymin * h))\n",
    "                x2 = int((bbox.xmin + bbox.width) * w) + int(0.05 * int(bbox.xmin * w))\n",
    "                y2 = int((bbox.ymin + bbox.height) * h) + int(0.05 * int(bbox.ymin * h))\n",
    "                coordinates = {'x1':x1,'y1':y1,f'x2':x2,'y2':y2}\n",
    "                coord_set.append(coordinates)\n",
    "                \n",
    "    return coord_set"
   ]
  },
  {
   "cell_type": "code",
   "execution_count": 5,
   "metadata": {},
   "outputs": [],
   "source": [
    "def find_landmarks(face: np.ndarray) -> mp_landmark.NormalizedLandmarkList:\n",
    "    '''Takes the image of a face and return all landmarks of the face. Returns None if no landmark detected'''\n",
    "    \n",
    "    with face_mesh.FaceMesh(\n",
    "        static_image_mode=True,\n",
    "        max_num_faces=10,\n",
    "        min_detection_confidence=0.5,\n",
    "        refine_landmarks=True,\n",
    "        min_tracking_confidence=0.5) as face_meshe:\n",
    "        \n",
    "        results = face_meshe.process(face)\n",
    "        \n",
    "        face_landmarks = None\n",
    "        if results.multi_face_landmarks:\n",
    "            face_landmarks = results.multi_face_landmarks[0]\n",
    "                \n",
    "        return face_landmarks"
   ]
  }
 ],
 "metadata": {
  "kernelspec": {
   "display_name": "attention-env",
   "language": "python",
   "name": "python3"
  },
  "language_info": {
   "codemirror_mode": {
    "name": "ipython",
    "version": 3
   },
   "file_extension": ".py",
   "mimetype": "text/x-python",
   "name": "python",
   "nbconvert_exporter": "python",
   "pygments_lexer": "ipython3",
   "version": "3.10.6"
  },
  "orig_nbformat": 4
 },
 "nbformat": 4,
 "nbformat_minor": 2
}
